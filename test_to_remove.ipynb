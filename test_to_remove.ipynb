{
 "cells" : [
  {
   "cell_type" : "code",
   "execution_count" : 31,
   "metadata" : {
    "collapsed" : true,
    "pycharm" : {
     "is_executing" : false
    }
   },
   "outputs" : [ ],
   "source" : [
    "########---------Packages if needed---------#########\n",
    "import math"
   ]
  },
  {
   "cell_type" : "code",
   "execution_count" : null,
   "outputs" : [ ],
   "source" : [ ],
   "metadata" : {
    "collapsed" : false,
    "pycharm" : {
     "name" : "#%%\n"
    }
   }
  },
  {
   "cell_type" : "code",
   "execution_count" : null,
   "outputs" : [ ],
   "source" : [
    "########\\\\\\\\\\\\\\\\\\\\\\\\\\\\THE DATA/////////////////#########\n",
    "%store -r tf\n",
    "%store -r R_pd1\n",
    "trainset = R_pd1\n",
    "testset= tf"
   ],
   "metadata" : {
    "collapsed" : false,
    "pycharm" : {
     "name" : "#%%\n"
    }
   }
  },
  {
   "cell_type" : "code",
   "execution_count" : 32,
   "outputs" : [ ],
   "source" : [
    "##########================>>>THE TEST<<<================##########\n",
    "r=30\n",
    "initval = math.sqrt(3.692/r)\n",
    "U = [[initval]*r for i in test.uid]"
   ],
   "metadata" : {
    "collapsed" : false,
    "pycharm" : {
     "name" : "#%%\n",
     "is_executing" : false
    }
   }
  },
  {
   "cell_type" : "code",
   "execution_count" : 34,
   "outputs" : [ ],
   "source" : [
    "V = [[initval]*r for i in range(len(test.mid))]"
   ],
   "metadata" : {
    "collapsed" : false,
    "pycharm" : {
     "name" : "#%%\n",
     "is_executing" : false
    }
   }
  }
 ],
 "metadata" : {
  "kernelspec" : {
   "display_name" : "Python 3",
   "language" : "python",
   "name" : "python3"
  },
  "language_info" : {
   "codemirror_mode" : {
    "name" : "ipython",
    "version" : 2
   },
   "file_extension" : ".py",
   "mimetype" : "text/x-python",
   "name" : "python",
   "nbconvert_exporter" : "python",
   "pygments_lexer" : "ipython2",
   "version" : "2.7.6"
  },
  "pycharm" : {
   "stem_cell" : {
    "cell_type" : "raw",
    "source" : [ ],
    "metadata" : {
     "collapsed" : false
    }
   }
  }
 },
 "nbformat" : 4,
 "nbformat_minor" : 0
}