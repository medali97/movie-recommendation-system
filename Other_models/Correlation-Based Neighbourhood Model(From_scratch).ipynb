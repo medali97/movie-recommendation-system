{
 "cells": [
  {
   "cell_type": "code",
   "execution_count": 1,
   "metadata": {
    "collapsed": true
   },
   "outputs": [
    {
     "name": "stdout",
     "output_type": "stream",
     "text": [
      "***************************** Movie Recommender System ******************************************\n",
      "\n",
      "\n",
      " Press 1 to see the data visualization \n",
      " Press 2 to Directly find a new movie recommendation \n",
      "\n",
      "\n",
      "***************************************************************************************************\n",
      "\n"
     ]
    }
   ],
   "source": [
    "import numpy as np\n",
    "import pandas as pd\n",
    "import math\n",
    "import matplotlib.pyplot as plt\n",
    "from sklearn.metrics.pairwise import cosine_similarity\n",
    "\n",
    "# import seaborn as sns\n",
    "\n",
    "print(\"***************************** Movie Recommender System ******************************************\")\n",
    "print()\n",
    "print()\n",
    "print(\" Press 1 to see the data visualization \")\n",
    "print(\" Press 2 to Directly find a new movie recommendation \")\n",
    "print()\n",
    "print()\n",
    "print(\"***************************************************************************************************\")\n",
    "print()\n",
    "mode = 1"
   ]
  },
  {
   "cell_type": "code",
   "execution_count": 2,
   "outputs": [],
   "source": [
    "def find_similar_movies(name_of_the_movie):\n",
    "    User_movie_rating = movie_matrix[name_of_the_movie]\n",
    "    list_name = movie_matrix.columns.values\n",
    "    if(mode == 1):\n",
    "        print(\"***************************** \", name_of_the_movie,\" rating Data ******************************************\")\n",
    "        print(User_movie_rating.head())\n",
    "        print(\"******************************************************************************************\", \"\\n\")\n",
    "    # similar = movie_matrix.corrwith(User_movie_rating)\n",
    "\n",
    "    # similar = movie_matrix.corr()\n",
    "    # similar = similar[name_of_the_movie]\n",
    "    lis = []\n",
    "    final_dict = dict()\n",
    "\n",
    "    for x in range(len(movie_matrix.columns)):\n",
    "        corr_value = movie_matrix[movie_matrix.columns[x]].corr(User_movie_rating)\n",
    "        movie_name = list_name[x]\n",
    "        if (isinstance(corr_value, np.float64) and np.isnan(corr_value)==False):\n",
    "            final_dict[movie_name] = corr_value\n",
    "    #         print(\"Float-> \",temp)\n",
    "    #         lis.append(corr_value)\n",
    "        else:\n",
    "            pass\n",
    "\n",
    "    recommendation = list()\n",
    "    for key, value in sorted(iter(final_dict.items()), key=lambda k_v: (k_v[1],k_v[0])):\n",
    "        # recommendation.append(str(key)+\" ---> \"+str(value))\n",
    "        recommendation.append(str(key))\n",
    "        # print(\"%s: %s\" % (key, value))\n",
    "\n",
    "\n",
    "    print(\"**************************************** Movie Recommendation ***************************************************\",'\\n')\n",
    "    # print(final_dict)\n",
    "    recommendation.reverse()\n",
    "    for i in range(6):\n",
    "        print(recommendation[i],'\\n')\n",
    "    print(\"******************************************************************************************************************\",'\\n')\n",
    "\n",
    "\n",
    "def cos_sim(a, b, keys):\n",
    "    dot_product = 0.0\n",
    "    a_sum = 0\n",
    "    b_sum = 0\n",
    "    # print(keys)\n",
    "    #print(a,'\\n\\n',b)\n",
    "    for i in keys:\n",
    "        dot_product = dot_product +(a[i] * b[i])\n",
    "        a_sum = a_sum + math.pow(a[i],2)\n",
    "        b_sum = b_sum + math.pow(b[i],2)\n",
    "    a_sum = math.sqrt(a_sum)\n",
    "    b_sum = math.sqrt(b_sum)\n",
    "    if((a_sum*b_sum)==0):\n",
    "        print(keys)\n",
    "    return dot_product / (a_sum * b_sum)\n",
    "\n",
    "\n",
    "\n",
    "def find_similar_movies_cosine_sim(name_of_the_movie):\n",
    "    User_movie_rating = movie_matrix[name_of_the_movie]\n",
    "    list_name = movie_matrix.columns.values\n",
    "    lis_1 = []\n",
    "    final_dict_1 = dict()\n",
    "    dic = dict()\n",
    "\n",
    "    # print(\"Length-->>>\",len(list_name))\n",
    "    for x in range(len(list_name)):\n",
    "        # print(x,\"-->\",len(list_name))\n",
    "        b = movie_matrix[movie_matrix.columns[x]].values\n",
    "        a = movie_matrix[name_of_the_movie]\n",
    "        # print(a[])\n",
    "        for i in range(1,500): # limiting user Rating to 500 users\n",
    "\n",
    "            # print(\"Temp ->>>\",a[i])\n",
    "            if (isinstance(a[i], np.float64) and np.isnan(a[i])==False):\n",
    "                dic[i] = a[i]\n",
    "        dic_1 = dict()\n",
    "        new_list_a_name = dic.keys()\n",
    "\n",
    "\n",
    "        for i  in range(500):# limiting user Rating to 500 users\n",
    "            if (isinstance(b[i], np.float64) and np.isnan(b[i])==False):\n",
    "                dic_1[i] = b[i]\n",
    "        new_list_b_name = dic_1.keys()\n",
    "\n",
    "        new_list = list(set(new_list_a_name).intersection(new_list_b_name))\n",
    "        # print(\"new_list_a_name -> \",len(new_list_a_name),'\\n')\n",
    "        # print(\"new_list_b_name -> \",len(new_list_b_name),'\\n')\n",
    "        # print(\"new_list\",len(new_list))\n",
    "\n",
    "        #------------------------------------------------------------------------\n",
    "        #print(\"a dict -> \",a,\"\\n\\n\")\n",
    "        #print(\"b dict -> \",b,\"\\n\\n\").\n",
    "        #print(new_list)\n",
    "        # print(len(new_list))\n",
    "        #print(\"********************************************************************\")\n",
    "        #-----------------------------------------------------------------------------\n",
    "\n",
    "\n",
    "\n",
    "        if(new_list):\n",
    "            similarity = cos_sim(dic , dic_1 , new_list)\n",
    "            final_dict_1[list_name[x]] = similarity\n",
    "        print(x , \"-->\",len(list_name))\n",
    "\n",
    "    recommendation_1 = list()\n",
    "    for key, value in sorted(iter(final_dict_1.items()), key=lambda k_v: (k_v[1],k_v[0])):\n",
    "        # recommendation.append(str(key)+\" ---> \"+str(value))\n",
    "        recommendation_1.append(str(key))\n",
    "        # print(\"%s: %s\" % (key, value))\n",
    "\n",
    "\n",
    "    print(\"**************************************** Movie Recommendation ***************************************************\",'\\n')\n",
    "    # print(final_dict)\n",
    "    recommendation_1.reverse()\n",
    "    for i in range(6):\n",
    "        print(recommendation_1[i],'\\n')\n",
    "    print(\"******************************************************************************************************************\",'\\n')"
   ],
   "metadata": {
    "collapsed": false,
    "pycharm": {
     "name": "#%%\n"
    }
   }
  },
  {
   "cell_type": "code",
   "execution_count": 3,
   "outputs": [],
   "source": [
    "column_names = ['user_id', 'item_id', 'rating', 'timestamp']\n",
    "df = pd.read_csv('ratings2.csv', sep='\\t', names=column_names)"
   ],
   "metadata": {
    "collapsed": false,
    "pycharm": {
     "name": "#%%\n"
    }
   }
  },
  {
   "cell_type": "code",
   "execution_count": 4,
   "outputs": [
    {
     "name": "stdout",
     "output_type": "stream",
     "text": [
      "***************************** User Rating Sample Data count *************************************** \n",
      "\n",
      "user_id      1048575\n",
      "item_id      1048575\n",
      "rating       1048575\n",
      "timestamp    1048575\n",
      "dtype: int64 \n",
      "\n",
      "*************************************************************************************************** \n",
      "\n",
      "***************************** User Rating Sample Data *************************************** \n",
      "\n",
      "   user_id  item_id  rating   timestamp\n",
      "0        1      307     3.5  1256677221\n",
      "1        1      481     3.5  1256677456\n",
      "2        1     1091     1.5  1256677471\n",
      "3        1     1257     4.5  1256677460\n",
      "4        1     1449     4.5  1256677264 \n",
      "\n",
      "******************************************************************************************************** \n",
      "\n",
      "***************************** Movie list Sample Data ************************************************* \n",
      "\n",
      "   item_id                               title  Unnamed: 2 Unnamed: 3  \\\n",
      "0        1                    Toy Story (1995)         NaN        NaN   \n",
      "1        2                      Jumanji (1995)         NaN        NaN   \n",
      "2        3             Grumpier Old Men (1995)         NaN        NaN   \n",
      "3        4            Waiting to Exhale (1995)         NaN        NaN   \n",
      "4        5  Father of the Bride Part II (1995)         NaN        NaN   \n",
      "\n",
      "  Unnamed: 4 Unnamed: 5 Unnamed: 6 Unnamed: 7 Unnamed: 8  \n",
      "0        NaN        NaN        NaN        NaN        NaN  \n",
      "1        NaN        NaN        NaN        NaN        NaN  \n",
      "2        NaN        NaN        NaN        NaN        NaN  \n",
      "3        NaN        NaN        NaN        NaN        NaN  \n",
      "4        NaN        NaN        NaN        NaN        NaN   \n",
      "\n",
      "****************************************************************************************************** \n",
      "\n",
      "***************************** Movie list with user ratings  ************************************************* \n",
      "\n",
      "title\n",
      "Chris Rock: Bring the Pain (1996)                                                                     5.0\n",
      "Woodshock (2017)                                                                                      5.0\n",
      "Avalon High (2010)                                                                                    5.0\n",
      "Manjhi The Mountain Man (2015)                                                                        5.0\n",
      "Films to Keep You Awake: The Baby's Room (Películas para no dormir: La habitación del niño) (2006)    5.0\n",
      "Marathon: The Patriots Day Bombing (2016)                                                             5.0\n",
      "Working Girls (1986)                                                                                  5.0\n",
      "Marriage Made in Heaven                                                                               5.0\n",
      "Fear of the Flesh: The Making of The Fly (2005)                                                       5.0\n",
      "Bridegroom (2013)                                                                                     5.0\n",
      "Name: rating, dtype: float64\n",
      "************************************************************************************************************** \n",
      "\n",
      "***************************** Movie Rating mean values ************************************************* \n",
      "\n",
      "                                  rating\n",
      "title                                   \n",
      "\"Great Performances\" Cats (1998)   2.375\n",
      "#Horror (2015)                     1.000\n",
      "#realityhigh (2017)                4.000\n",
      "$ (Dollars) (1971)                 3.000\n",
      "$5 a Day (2008)                    1.750 \n",
      "\n",
      "******************************************************************************************************** \n",
      "\n",
      "***************************** Movie Rating mean values and counts ******************************************* \n",
      "\n",
      "                                  rating  rating_numbers\n",
      "title                                                   \n",
      "\"Great Performances\" Cats (1998)   2.375               8\n",
      "#Horror (2015)                     1.000               1\n",
      "#realityhigh (2017)                4.000               1\n",
      "$ (Dollars) (1971)                 3.000               1\n",
      "$5 a Day (2008)                    1.750               2 \n",
      "\n",
      "************************************************************************************************************** \n",
      "\n"
     ]
    }
   ],
   "source": [
    "if(mode == 1):\n",
    "    print(\"***************************** User Rating Sample Data count ***************************************\",\"\\n\")\n",
    "    print(df.count(),\"\\n\")\n",
    "    print(\"***************************************************************************************************\",\"\\n\")\n",
    "    print(\"***************************** User Rating Sample Data ***************************************\",\"\\n\")\n",
    "    print(df.head(),\"\\n\")\n",
    "    print(\"********************************************************************************************************\",\"\\n\")\n",
    "movie_titles = pd.read_csv('movies2')\n",
    "\n",
    "if(mode == 1):\n",
    "    print(\"***************************** Movie list Sample Data *************************************************\",\"\\n\")\n",
    "    print(movie_titles.head(),\"\\n\")\n",
    "    print(\"******************************************************************************************************\",\"\\n\")\n",
    "\n",
    "df = pd.merge(df, movie_titles, on='item_id')\n",
    "\n",
    "if(mode == 1):\n",
    "    print(\"***************************** Movie list with user ratings  *************************************************\",\"\\n\")\n",
    "    # print(df.head(),\"\\n\")\n",
    "    # sns.set_style('white')\n",
    "    print(df.groupby('title')['rating'].mean().sort_values(ascending=False).head(10))\n",
    "    print(\"**************************************************************************************************************\",\"\\n\")\n",
    "\n",
    "\n",
    "ratings = pd.DataFrame(df.groupby('title')['rating'].mean())\n",
    "\n",
    "if(mode == 1):\n",
    "    print(\"***************************** Movie Rating mean values *************************************************\",\"\\n\")\n",
    "    print(ratings.head(),\"\\n\")\n",
    "    print(\"********************************************************************************************************\",\"\\n\")\n",
    "\n",
    "ratings['rating_numbers'] = pd.DataFrame(df.groupby('title')['rating'].count())\n",
    "if(mode == 1):\n",
    "    print(\"***************************** Movie Rating mean values and counts *******************************************\",\"\\n\")\n",
    "    print(ratings.head(),\"\\n\")\n",
    "    print(\"**************************************************************************************************************\",\"\\n\")"
   ],
   "metadata": {
    "collapsed": false,
    "pycharm": {
     "name": "#%%\n"
    }
   }
  },
  {
   "cell_type": "code",
   "execution_count": 5,
   "outputs": [],
   "source": [],
   "metadata": {
    "collapsed": false,
    "pycharm": {
     "name": "#%%\n"
    }
   }
  },
  {
   "cell_type": "code",
   "execution_count": 6,
   "outputs": [],
   "source": [
    "movie_matrix = df.pivot_table(index='user_id', columns='title', values='rating')"
   ],
   "metadata": {
    "collapsed": false,
    "pycharm": {
     "name": "#%%\n"
    }
   }
  },
  {
   "cell_type": "code",
   "execution_count": null,
   "outputs": [],
   "source": [
    "if(mode == 1):\n",
    "    print(\"***************************** Movies with each user rating data  ***************************************\",\"\\n\")\n",
    "    print(movie_matrix.head())\n",
    "    print(\"********************************************************************************************************\",\"\\n\")\n",
    "    print(\"***************************** Movie Rating with highest rating count ***********************************\",\"\\n\")\n",
    "    print(ratings.sort_values('rating_numbers', ascending=False).head(10))\n",
    "    print(\"********************************************************************************************************\",\"\\n\")\n",
    "print(\"------------------------------------------------------------------------------------------\")\n",
    "name = input(\"Enter a Movie :\")"
   ],
   "metadata": {
    "collapsed": false,
    "pycharm": {
     "name": "#%%\n"
    }
   }
  },
  {
   "cell_type": "code",
   "execution_count": 11,
   "outputs": [
    {
     "name": "stdout",
     "output_type": "stream",
     "text": [
      "*****************************  'burbs  rating Data ******************************************\n",
      "user_id\n",
      "1   NaN\n",
      "2   NaN\n",
      "3   NaN\n",
      "4   NaN\n",
      "5   NaN\n",
      "Name: 'burbs, dtype: float64\n",
      "****************************************************************************************** \n",
      "\n",
      "**************************************** Movie Recommendation *************************************************** \n",
      "\n",
      "Your Sister's Sister (2011) \n",
      "\n",
      "Yakuza \n",
      "\n",
      "XX/XY (2002) \n",
      "\n",
      "Words \n",
      "\n",
      "Wish Upon a Star (1996) \n",
      "\n",
      "Winchester '73 (1950) \n",
      "\n",
      "****************************************************************************************************************** \n",
      "\n"
     ]
    },
    {
     "name": "stderr",
     "output_type": "stream",
     "text": [
      "/home/mohamedali/anaconda3/envs/movie-recommendation-system/lib/python3.7/site-packages/numpy/lib/function_base.py:2526: RuntimeWarning: Degrees of freedom <= 0 for slice\n",
      "  c = cov(x, y, rowvar)\n",
      "/home/mohamedali/anaconda3/envs/movie-recommendation-system/lib/python3.7/site-packages/numpy/lib/function_base.py:2455: RuntimeWarning: divide by zero encountered in true_divide\n",
      "  c *= np.true_divide(1, fact)\n"
     ]
    }
   ],
   "source": [
    "find_similar_movies(\"'burbs\")\n",
    "# find_similar_movies_cosine_sim(name)\n"
   ],
   "metadata": {
    "collapsed": false,
    "pycharm": {
     "name": "#%%\n"
    }
   }
  },
  {
   "cell_type": "code",
   "execution_count": 9,
   "outputs": [],
   "source": [
    "User_movie_rating = movie_matrix[\"'burbs\"]\n",
    "list_name = movie_matrix.columns.values\n",
    "lis_1 = []\n",
    "final_dict_1 = dict()\n",
    "dic = dict()"
   ],
   "metadata": {
    "collapsed": false,
    "pycharm": {
     "name": "#%%\n"
    }
   }
  }
 ],
 "metadata": {
  "kernelspec": {
   "display_name": "Python 3",
   "language": "python",
   "name": "python3"
  },
  "language_info": {
   "codemirror_mode": {
    "name": "ipython",
    "version": 2
   },
   "file_extension": ".py",
   "mimetype": "text/x-python",
   "name": "python",
   "nbconvert_exporter": "python",
   "pygments_lexer": "ipython2",
   "version": "2.7.6"
  }
 },
 "nbformat": 4,
 "nbformat_minor": 0
}