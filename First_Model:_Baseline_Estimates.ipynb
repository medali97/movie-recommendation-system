{
 "cells" : [
  {
   "cell_type" : "code",
   "execution_count" : 1,
   "outputs" : [
    {
     "name" : "stdout",
     "text" : [
      "import of packages successful\n"
     ],
     "output_type" : "stream"
    }
   ],
   "source" : [
    "from io import StringIO\n",
    "import pandas as pd\n",
    "import matplotlib.pyplot as plt\n",
    "import tensorflow as tf\n",
    "import os\n",
    "import urllib.request\n",
    "import numpy as np\n",
    "from sklearn.metrics import mean_squared_error\n",
    "from datetime import datetime\n",
    "# print message after packages imported successfully\n",
    "print(\"import of packages successful\")\n",
    "##import of packages successful\n"
   ],
   "metadata" : {
    "collapsed" : false,
    "pycharm" : {
     "name" : "#%%\n",
     "is_executing" : false
    }
   }
  },
  {
   "cell_type" : "markdown",
   "metadata" : {
    "collapsed" : true,
    "pycharm" : {
     "name" : "#%% md\n"
    }
   },
   "source" : [
    "## 2. Baseline Estimates"
   ]
  },
  {
   "cell_type" : "markdown",
   "source" : [
    "* Let $u$ and $v$ be two users and $i$ and $j$ two films;\n",
    "\n",
    "* we define:\n",
    "  *  $r_{ui}$ as the rating by user $u$ on film $i$;\n",
    "  *  $\\hat{r}_{ui}$ as the **predicted** rating of $r_{ui}$;\n",
    "\n",
    "\n",
    "* In Netflix data $99\\%$ of ratings are missing, the $(u,i)$ pairs for which $r_{ui}$ is known are stored in the set\n",
    "\n",
    "\\begin{equation}\n",
    "\\mathcal{K} = \\{(u,i) \\quad \\vert \\quad   r_{ui} \\quad \\mbox{is known}\\}.\n",
    "\\end{equation}\n",
    "\n",
    "\\\\\n",
    "\n",
    "* In rating data, we tend to have users who systematically give higher ratings than others and also, some movies which receive higher ratings than others;\n",
    "\n",
    "* In Section 2.1 of the [article](https://www.cs.rochester.edu/twiki/pub/Main/HarpSeminar/Factorization_Meets_the_Neighborhood-_a_Multifaceted_Collaborative_Filtering_Model.pdf) these tendencies are considered as baseline ratings $b_{ui}$ and are defined as\n",
    "\n",
    "\\begin{equation}\n",
    "b_{ui} = \\mu + b_u + b_i,\n",
    "\\end{equation}\n",
    "\n",
    "\\\\\n",
    "\n",
    "* where:\n",
    "  *  $\\mu$ is the overall average rating;\n",
    "  * $b_u$ the observed deviation of user $u$;\n",
    "  * $b_i$ the observed deviation of movie $i$;\n",
    "\n",
    "\\\\\n",
    "\n",
    "\n",
    "\n",
    "* Estimates of $b_u$s and $b_i$s are obtained by the minimization of the regularized MSE loss function\n",
    "\n",
    "\\begin{equation}\n",
    "\\sum_{(u,i) \\in \\mathcal{K}} (r_{ui} - b_{ui})^2 + \\lambda_1 \\left( \\sum_{u} b_u^2 + \\sum_{i} b_i^2 \\right),\n",
    "\\end{equation}\n",
    "\n",
    "\\\\\n",
    "\n",
    "  - where $\\lambda_1 \\left( \\sum_{u} b_u^2 + \\sum_{i} b_i^2 \\right)$ is the regularization term to avoid overfitting. The penality coefficient $\\lambda_1 = 0.02$.\n",
    "\n",
    "\\\\\n",
    "\n",
    "* Write a python function **baseline_estimator** to estimate $b_u, b_i$ for every $(u,i) \\in \\mathcal{K}$;\n",
    "\n",
    "\\\\\n",
    "\n",
    "* The problem above can easily be transformed into linear regression problem and the minimization of the regularized MSE can be done through gradient descent.\n"
   ],
   "metadata" : {
    "collapsed" : false
   }
  },
  {
   "cell_type" : "code",
   "execution_count" : null,
   "outputs" : [ ],
   "source" : [
    "\n",
    "\n",
    "\n",
    "\n",
    "\n",
    "####YOU'RE A MEAN"
   ],
   "metadata" : {
    "collapsed" : false,
    "pycharm" : {
     "name" : "#%%\n"
    }
   }
  },
  {
   "cell_type" : "code",
   "execution_count" : null,
   "outputs" : [ ],
   "source" : [
    "from surprise import SVD, Reader\n",
    "from surprise import Dataset\n",
    "from surprise import accuracy\n",
    "from surprise.model_selection import KFold\n",
    "from surprise.model_selection import cross_validate\n",
    "from surprise import BaselineOnly"
   ],
   "metadata" : {
    "collapsed" : false,
    "pycharm" : {
     "name" : "#%%\n"
    }
   }
  },
  {
   "cell_type" : "code",
   "execution_count" : 3,
   "outputs" : [ ],
   "source" : [
    "%store -r tf\n",
    "%store -r df"
   ],
   "metadata" : {
    "collapsed" : false,
    "pycharm" : {
     "name" : "#%%\n",
     "is_executing" : false
    }
   }
  },
  {
   "cell_type" : "code",
   "execution_count" : 5,
   "outputs" : [
    {
     "name" : "stdout",
     "text" : [
      "     userID itemID rating\n",
      "0     30878      1      4\n",
      "1   2647871      1      4\n",
      "2   1283744      1      3\n",
      "3   2488120      1      5\n",
      "4    317050      1      5\n",
      "5   1904905      1      4\n",
      "6   1989766      1      4\n",
      "7     14756      1      4\n",
      "8   1027056      1      3\n",
      "9   1149588      1      4\n",
      "10  1394012      1      5\n",
      "11  1406595      1      4\n",
      "12  2529547      1      5\n",
      "13  1682104      1      4\n",
      "14  2625019      1      3\n",
      "15  2603381      1      5\n",
      "16  1774623      1      4\n",
      "17   470861      1      5\n",
      "18   712610      1      4\n",
      "19  1772839      1      5\n",
      "20  1059319      1      3\n",
      "21  2380848      1      5\n",
      "22   548064      1      5\n",
      "23  1952305     10      3\n",
      "24  1531863     10      3\n"
     ],
     "output_type" : "stream"
    }
   ],
   "source" : [
    "print(tf)"
   ],
   "metadata" : {
    "collapsed" : false,
    "pycharm" : {
     "name" : "#%%\n",
     "is_executing" : false
    }
   }
  },
  {
   "cell_type" : "code",
   "execution_count" : null,
   "outputs" : [ ],
   "source" : [
    "# A reader is still needed but only the rating_scale param is requiered.\n",
    "reader = Reader(rating_scale=(1, 5))\n",
    "\n",
    "# The columns must correspond to user id, item id and ratings (in that order).\n",
    "train_data = Dataset.load_from_df(df, reader)\n",
    "trainset = train_data.build_full_trainset()\n",
    "\n",
    "\n",
    "# SGD\n",
    "print('Using SGD')\n",
    "bsl_options = {'method': 'sgd',\n",
    "               'learning_rate': .00005,\n",
    "            }\n",
    "algo = BaselineOnly(bsl_options=bsl_options)\n",
    "\n",
    "# Train the algorithm on the trainset, and predict ratings for the testset\n",
    "algo.fit(trainset)\n",
    "\n",
    "# Run 5-fold cross-validation and print results\n",
    "cross_validate(algo, data, measures=['RMSE', 'MAE'], cv=5, verbose=True)"
   ],
   "metadata" : {
    "collapsed" : false,
    "pycharm" : {
     "name" : "#%%\n"
    }
   }
  },
  {
   "cell_type" : "code",
   "execution_count" : null,
   "outputs" : [ ],
   "source" : [
    "uid = str(2442)  # raw user id (as in the ratings file). They are **strings**!\n",
    "iid = str(1)  # raw item id (as in the ratings file). They are **strings**!\n",
    "\n",
    "# get a prediction for specific users and items.\n",
    "pred = algo.predict(uid, iid, r_ui=4, verbose=True)"
   ],
   "metadata" : {
    "collapsed" : false,
    "pycharm" : {
     "name" : "#%%\n"
    }
   }
  },
  {
   "cell_type" : "code",
   "execution_count" : null,
   "outputs" : [ ],
   "source" : [
    "testset = Dataset.load_from_df(tf, reader)\n",
    "list(zip(testset))"
   ],
   "metadata" : {
    "collapsed" : false,
    "pycharm" : {
     "name" : "#%%\n"
    }
   }
  },
  {
   "cell_type" : "code",
   "execution_count" : null,
   "outputs" : [ ],
   "source" : [
    "tuples = [tuple(x) for x in tf.itertuples(index=False)]\n",
    "tuples"
   ],
   "metadata" : {
    "collapsed" : false,
    "pycharm" : {
     "name" : "#%%\n"
    }
   }
  },
  {
   "cell_type" : "code",
   "execution_count" : null,
   "outputs" : [ ],
   "source" : [
    "predictions = algo.test(tuples)\n",
    "print(predictions[5])\n",
    "# Then compute RMSE\n",
    "accuracy.rmse(predictions)"
   ],
   "metadata" : {
    "collapsed" : false,
    "pycharm" : {
     "name" : "#%%\n"
    }
   }
  }
 ],
 "metadata" : {
  "kernelspec" : {
   "display_name" : "Python 3",
   "language" : "python",
   "name" : "python3"
  },
  "language_info" : {
   "codemirror_mode" : {
    "name" : "ipython",
    "version" : 2
   },
   "file_extension" : ".py",
   "mimetype" : "text/x-python",
   "name" : "python",
   "nbconvert_exporter" : "python",
   "pygments_lexer" : "ipython2",
   "version" : "2.7.6"
  },
  "pycharm" : {
   "stem_cell" : {
    "cell_type" : "raw",
    "source" : [ ],
    "metadata" : {
     "collapsed" : false
    }
   }
  }
 },
 "nbformat" : 4,
 "nbformat_minor" : 0
}