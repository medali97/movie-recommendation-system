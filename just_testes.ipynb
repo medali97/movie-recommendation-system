{
 "cells" : [
  {
   "cell_type" : "code",
   "execution_count" : null,
   "metadata" : {
    "collapsed" : true
   },
   "outputs" : [ ],
   "source" : [
    "d = StringIO(u\"M 21 72\\nF 35 58\")\n",
    "a = np.loadtxt(d, dtype={'names': ('gender', 'age', 'weight'),'formats': ('S1', 'i4', 'f4')})"
   ]
  },
  {
   "cell_type" : "code",
   "execution_count" : null,
   "outputs" : [ ],
   "source" : [
    "dt=np.dtype({'names': ('CustomerID','Rating','Date'),'formats': ('int32', 'int8', 'datetime64[D]')})\n",
    "file = \"mv_0000001.txt\"\n",
    "data = np.loadtxt(fname = file,skiprows=1, delimiter=',', dtype=dt)\n",
    "leng = np.shape(data)[0]\n",
    "leng\n",
    "movie_id = np.reshape(np.arange(1,leng+1),(leng,1))\n",
    "movie_id = np.full((leng,1),1)\n",
    "print(np.shape(movie_id))\n",
    "movie_id"
   ],
   "metadata" : {
    "collapsed" : false,
    "pycharm" : {
     "name" : "#%%\n"
    }
   }
  },
  {
   "cell_type" : "code",
   "execution_count" : null,
   "outputs" : [ ],
   "source" : [
    "print(np.shape(data))\n",
    "data[547]"
   ],
   "metadata" : {
    "collapsed" : false,
    "pycharm" : {
     "name" : "#%%\n"
    }
   }
  },
  {
   "cell_type" : "code",
   "execution_count" : null,
   "outputs" : [ ],
   "source" : [
    "a = np.array([[1, 2, 3], [4, 5, 6]])\n",
    "print(np.shape(a))\n",
    "b = np.array([[400], [800]])\n",
    "print(np.shape(b))"
   ],
   "metadata" : {
    "collapsed" : false,
    "pycharm" : {
     "name" : "#%%\n"
    }
   }
  },
  {
   "cell_type" : "code",
   "execution_count" : null,
   "outputs" : [ ],
   "source" : [
    "type(data)\n",
    "test = np.array(data.tolist())\n",
    "test1 = np.asarray(data)\n",
    "print(\"begin\")\n",
    "print(np.shape(test))\n",
    "print(np.shape(test1))\n",
    "print(type(test))\n",
    "print(type(test1))\n",
    "print(\"success\")\n",
    "a = [[1, 2, 3], [4, 5, 6]]\n",
    "b = [[7], [8]]\n",
    "print(np.shape(a))\n",
    "print(np.shape(b))\n",
    "r = np.append(a, b, axis=1)\n",
    "print(np.shape(r))\n",
    "print(\"suc\")"
   ],
   "metadata" : {
    "collapsed" : false,
    "pycharm" : {
     "name" : "#%%\n"
    }
   }
  },
  {
   "cell_type" : "code",
   "execution_count" : null,
   "outputs" : [ ],
   "source" : [ ],
   "metadata" : {
    "collapsed" : false,
    "pycharm" : {
     "name" : "#%%\n"
    }
   }
  },
  {
   "cell_type" : "code",
   "execution_count" : null,
   "outputs" : [ ],
   "source" : [
    "                if previous_movie == 0:\n",
    "                    previous_movie = next_movie = int(substring_after(line,\":\"))\n",
    "                    print(\"Fist previous\",previous_movie)\n",
    "\n",
    "                else :\n",
    "                    previous_movie = next_movie\n",
    "                    next_movie = substring_after(line,\":\")"
   ],
   "metadata" : {
    "collapsed" : false,
    "pycharm" : {
     "name" : "#%%\n"
    }
   }
  },
  {
   "cell_type" : "code",
   "execution_count" : null,
   "outputs" : [ ],
   "source" : [
    "##Select row with specific value\n",
    "movie_id = 1\n",
    "customer_id = 1488844\n",
    "condlist = [D[:,0]==customer_id, D[:,1]==movie_id]\n",
    "t1 = np.array([])\n",
    "t2 = np.select(((D[:,0]==customer_id) * (D[:,3]==movie_id)),D).reshape((1,4))\n",
    "t=np.concatenate((t1,t2))\n",
    "print(t)\n",
    "print(np.shape(t))\n",
    "#D[np.where((D[:,0] == 1488844) * (D[:,3] == 1))]\n",
    "#a = np.array(t)\n",
    "\n"
   ],
   "metadata" : {
    "collapsed" : false,
    "pycharm" : {
     "name" : "#%%\n"
    }
   }
  }
 ],
 "metadata" : {
  "kernelspec" : {
   "display_name" : "Python 3",
   "language" : "python",
   "name" : "python3"
  },
  "language_info" : {
   "codemirror_mode" : {
    "name" : "ipython",
    "version" : 2
   },
   "file_extension" : ".py",
   "mimetype" : "text/x-python",
   "name" : "python",
   "nbconvert_exporter" : "python",
   "pygments_lexer" : "ipython2",
   "version" : "2.7.6"
  },
  "pycharm" : {
   "stem_cell" : {
    "cell_type" : "raw",
    "source" : [ ],
    "metadata" : {
     "collapsed" : false
    }
   }
  }
 },
 "nbformat" : 4,
 "nbformat_minor" : 0
}