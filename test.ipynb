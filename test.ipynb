{
 "cells" : [
  {
   "cell_type" : "code",
   "execution_count" : 1,
   "outputs" : [
    {
     "name" : "stdout",
     "text" : [
      "import of packages successful\n"
     ],
     "output_type" : "stream"
    }
   ],
   "source" : [
    "from io import StringIO\n",
    "import pandas as pd\n",
    "import matplotlib.pyplot as plt\n",
    "import tensorflow as tf\n",
    "import os\n",
    "import urllib.request\n",
    "import numpy as np\n",
    "from datetime import datetime\n",
    "# print message after packages imported successfully\n",
    "print(\"import of packages successful\")\n",
    "##import of packages successful\n",
    "\n",
    "\n",
    "\n"
   ],
   "metadata" : {
    "collapsed" : false,
    "pycharm" : {
     "name" : "#%%\n",
     "is_executing" : false
    }
   }
  }
 ],
 "metadata" : {
  "kernelspec" : {
   "display_name" : "Python 3",
   "language" : "python",
   "name" : "python3"
  },
  "language_info" : {
   "codemirror_mode" : {
    "name" : "ipython",
    "version" : 2
   },
   "file_extension" : ".py",
   "mimetype" : "text/x-python",
   "name" : "python",
   "nbconvert_exporter" : "python",
   "pygments_lexer" : "ipython2",
   "version" : "2.7.6"
  },
  "pycharm" : {
   "stem_cell" : {
    "cell_type" : "raw",
    "source" : [ ],
    "metadata" : {
     "collapsed" : false
    }
   }
  }
 },
 "nbformat" : 4,
 "nbformat_minor" : 0
}