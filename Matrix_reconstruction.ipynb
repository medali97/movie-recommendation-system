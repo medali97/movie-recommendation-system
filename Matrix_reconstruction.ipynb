{
 "cells" : [
  {
   "cell_type": "code",
   "execution_count": 1,
   "outputs": [
    {
     "name": "stdout",
     "output_type": "stream",
     "text": [
      "import of packages successful\n"
     ]
    }
   ],
   "source": [
    "import timeit\n",
    "from io import StringIO\n",
    "import numba\n",
    "import pandas as pd\n",
    "import matplotlib.pyplot as plt\n",
    "import tensorflow as tf\n",
    "import os\n",
    "import urllib.request\n",
    "import numpy as np\n",
    "from datetime import datetime\n",
    "# print message after packages imported successfully\n",
    "from numba import jit\n",
    "from past.builtins import raw_input\n",
    "from scipy import sparse\n",
    "print(\"import of packages successful\")\n",
    "##import of packages successful"
   ],
   "metadata": {
    "collapsed": false,
    "pycharm": {
     "name": "#%%\n"
    }
   }
  },
  {
   "cell_type": "code",
   "execution_count": 2,
   "outputs": [],
   "source": [
    "path = raw_input(\"Please enter the path to nf_prize_dataset , for exemple /home/mohamedali/Desktop/nf_prize_dataset/download\") \n",
    "os.chdir(path)"
   ],
   "metadata": {
    "collapsed": false,
    "pycharm": {
     "name": "#%%\n"
    }
   }
  },
  {
   "cell_type": "code",
   "execution_count": 3,
   "outputs": [],
   "source": [
    "#/home/mohamedali/Desktop/Matrix_factorization/nf_prize_dataset/download\n",
    "#Data Path\n"
   ],
   "metadata" : {
    "collapsed" : false,
    "pycharm" : {
     "name" : "#%%\n",
     "is_executing" : false
    }
   }
  },
  {
   "cell_type" : "markdown",
   "source" : [
    "# Methodology"
   ],
   "metadata" : {
    "collapsed" : false,
    "pycharm" : {
     "name" : "#%% md\n"
    }
   }
  },
  {
   "cell_type" : "markdown",
   "source" : [
    "## 1. Data Compilation"
   ],
   "metadata" : {
    "collapsed" : false
   }
  },
  {
   "cell_type" : "markdown",
   "source" : [
    "### 1.1. Generation of the rating dataset"
   ],
   "metadata" : {
    "collapsed" : false
   }
  },
  {
   "cell_type" : "markdown",
   "source" : [
    "* Write Python function **rating_compiler** to compile from the training_set.tar, the $17770$ files and store the result into one data structure named $\\bf{D}$;\n",
    "\n",
    "* $\\bf{D}$ can be a numpy matrix, csv file/pandas DataFrame, sparse matrix, hdf5 file...;\n",
    "\n"
   ],
   "metadata" : {
    "collapsed" : false
   }
  },
  {
   "cell_type" : "code",
   "execution_count" : 3,
   "outputs" : [ ],
   "source" : [
    "def rating_compiler(previous=None):\n",
    "    for i in range(1, 3):\n",
    "        file = \"training_set\" + \"/mv_00\" + '{0:05}'.format(i) + '.txt'\n",
    "        dt=np.dtype({'names': ('CustomerID','Rating','Date'),'formats': ('int32', 'int8', 'datetime64[D]')})\n",
    "        data = np.loadtxt(fname = file,skiprows=1, delimiter=',', dtype=dt)\n",
    "        new_data = np.array(data.tolist())\n",
    "        leng = np.shape(data)[0]\n",
    "        movie_id = np.full((leng,1),i)\n",
    "        new_data = np.append(new_data, movie_id, axis=1)\n",
    "        print(i)\n",
    "        if(i==1):\n",
    "            previous = new_data\n",
    "        else:\n",
    "            previous = np.concatenate((previous, new_data))\n",
    "\n",
    "    return(previous)"
   ],
   "metadata" : {
    "collapsed" : false,
    "pycharm" : {
     "name" : "#%%\n",
     "is_executing" : false
    }
   }
  },
  {
   "cell_type" : "code",
   "execution_count" : 4,
   "outputs" : [
    {
     "name" : "stdout",
     "text" : [
      "1\n",
      "2\n"
     ],
     "output_type" : "stream"
    }
   ],
   "source" : [
    "D = rating_compiler()"
   ],
   "metadata" : {
    "collapsed" : false,
    "pycharm" : {
     "name" : "#%%\n",
     "is_executing" : false
    }
   }
  },
  {
   "cell_type" : "code",
   "execution_count" : 5,
   "outputs" : [
    {
     "name" : "stdout",
     "text" : [
      "[[1488844 3 datetime.date(2005, 9, 6) 1]\n",
      " [822109 5 datetime.date(2005, 5, 13) 1]\n",
      " [885013 4 datetime.date(2005, 10, 19) 1]\n",
      " ...\n",
      " [1824543 4 datetime.date(2005, 4, 20) 2]\n",
      " [1283204 3 datetime.date(2004, 12, 23) 2]\n",
      " [1272122 5 datetime.date(2005, 7, 25) 2]]\n"
     ],
     "output_type" : "stream"
    }
   ],
   "source" : [
    "print(D)"
   ],
   "metadata" : {
    "collapsed" : false,
    "pycharm" : {
     "name" : "#%%\n",
     "is_executing" : false
    }
   }
  },
  {
   "cell_type" : "markdown",
   "source" : [
    "### 1.2. Generation of training and test datasets"
   ],
   "metadata" : {
    "collapsed" : false
   }
  },
  {
   "cell_type" : "markdown",
   "source" : [
    "* Extract from $\\bf{D}$ the ratings corresponding to the users and movies described in the probe.txt and store the result into one data structure named $\\bf{T}$;"
   ],
   "metadata" : {
    "collapsed" : false
   }
  },
  {
   "cell_type" : "code",
   "execution_count" : null,
   "outputs" : [ ],
   "source" : [
    "#R=D-T\n",
    "#T=D.ratings==probe.txt"
   ],
   "metadata" : {
    "collapsed" : false,
    "pycharm" : {
     "name" : "#%%\n"
    }
   }
  },
  {
   "cell_type" : "code",
   "execution_count" : 6,
   "outputs" : [ ],
   "source" : [
    "#Extract the character before :\n",
    "def substring_after(s, delimiter):\n",
    "    return s.partition(delimiter)[0]"
   ],
   "metadata" : {
    "collapsed" : false,
    "pycharm" : {
     "name" : "#%%\n",
     "is_executing" : false
    }
   }
  },
  {
   "cell_type" : "code",
   "execution_count" : 7,
   "outputs" : [ ],
   "source" : [
    "def getting_t():\n",
    "    the_array = np.array([])\n",
    "    with open('t.txt') as f:\n",
    "        customer_id = 0\n",
    "        movie_ids = 0\n",
    "        for line in f:\n",
    "           # For Python3, use print(line)\n",
    "           #Compare if it is a Movie or a Customer Id\n",
    "           # #stoke the movie id\n",
    "            if ':' in line:\n",
    "                movie_ids = int(substring_after(line,\":\"))\n",
    "                print(\"Movie id\",movie_ids)\n",
    "\n",
    "            elif \":\" not in line:\n",
    "                customer_id = int(line)\n",
    "                print(\"Customer_id : \",customer_id)\n",
    "\n",
    "                if the_array.size == 0:\n",
    "                    the_array= np.select(((D[:,0]==customer_id) * (D[:,3]==movie_ids)),D).reshape((1,4))\n",
    "                else:\n",
    "                    the_array = np.concatenate((the_array,np.select(((D[:,0]==customer_id) * (D[:,3]==movie_ids)),D).reshape((1,4))))\n",
    "\n",
    "\n",
    "            if 'str' in line:\n",
    "                break\n",
    "    print(\"Finish\")\n",
    "    return the_array"
   ],
   "metadata" : {
    "collapsed" : false,
    "pycharm" : {
     "name" : "#%%\n",
     "is_executing" : false
    }
   }
  },
  {
   "cell_type" : "code",
   "execution_count" : 8,
   "outputs" : [
    {
     "name" : "stdout",
     "text" : [
      "Movie id 1\n",
      "Customer_id :  30878\n",
      "Customer_id :  2647871\n",
      "Customer_id :  1283744\n",
      "Customer_id :  2488120\n",
      "Customer_id :  317050\n",
      "Customer_id :  1904905\n",
      "Customer_id :  1989766\n",
      "Customer_id :  14756\n",
      "Customer_id :  1027056\n",
      "Customer_id :  1149588\n",
      "Customer_id :  1394012\n",
      "Customer_id :  1406595\n",
      "Customer_id :  2529547\n",
      "Customer_id :  1682104\n",
      "Customer_id :  2625019\n",
      "Customer_id :  2603381\n",
      "Customer_id :  1774623\n",
      "Customer_id :  470861\n",
      "Customer_id :  712610\n",
      "Customer_id :  1772839\n",
      "Customer_id :  1059319\n",
      "Customer_id :  2380848\n",
      "Customer_id :  548064\n",
      "Finish\n"
     ],
     "output_type" : "stream"
    }
   ],
   "source" : [
    "T = getting_t()"
   ],
   "metadata" : {
    "collapsed" : false,
    "pycharm" : {
     "name" : "#%%\n",
     "is_executing" : false
    }
   }
  },
  {
   "cell_type" : "markdown",
   "source" : [
    "* Construct training dataset $\\bf{R}$ as $\\bf{D}$ from which we remove entries present in $\\bf{T}$;\n",
    "\n",
    "* $\\bf{D}$, $\\bf{T}$ and $\\bf{R}$ must all have the same format (for example users as rows and films as columns);"
   ],
   "metadata" : {
    "collapsed" : false,
    "pycharm" : {
     "name" : "#%% md\n"
    }
   }
  },
  {
   "cell_type" : "code",
   "execution_count" : 9,
   "outputs" : [ ],
   "source" : [
    "D_pd = pd.DataFrame({'Customer_id': D[:, 0], 'Rating': D[:, 1], 'Date': D[:, 2], 'Movie_id': D[:, 3]})\n",
    "T_pd = pd.DataFrame({'Customer_id': T[:, 0], 'Rating': T[:, 1], 'Date': T[:, 2], 'Movie_id': T[:, 3]})"
   ],
   "metadata" : {
    "collapsed" : false,
    "pycharm" : {
     "name" : "#%%\n",
     "is_executing" : false
    }
   }
  },
  {
   "cell_type" : "code",
   "execution_count" : 10,
   "outputs" : [ ],
   "source" : [
    "df = pd.DataFrame({'userID':D[:, 0], 'itemID': D[:, 3], 'rating' : D[:, 1]})\n",
    "tf = pd.DataFrame({'userID':T[:, 0], 'itemID': T[:, 3], 'rating' : T[:, 1]})"
   ],
   "metadata" : {
    "collapsed" : false,
    "pycharm" : {
     "name" : "#%%\n",
     "is_executing" : false
    }
   }
  },
  {
   "cell_type" : "code",
   "execution_count" : 11,
   "outputs" : [ ],
   "source" : [
    "df1 = df\n",
    "df2 = tf"
   ],
   "metadata" : {
    "collapsed" : false,
    "pycharm" : {
     "name" : "#%%\n",
     "is_executing" : false
    }
   }
  },
  {
   "cell_type" : "code",
   "execution_count" : 12,
   "outputs" : [ ],
   "source" : [
    "#First Method\n",
    "R_pd1= df1[~df1.apply(tuple,1).isin(df2.apply(tuple,1))]"
   ],
   "metadata" : {
    "collapsed" : false,
    "pycharm" : {
     "name" : "#%%\n",
     "is_executing" : false
    }
   }
  },
  {
   "cell_type" : "code",
   "execution_count" : 13,
   "outputs" : [ ],
   "source" : [
    "#Second Method\n",
    "R_pd2 = T_pd.merge(D_pd, how = 'outer' ,indicator=True).loc[lambda x : x['_merge']=='right_only']"
   ],
   "metadata" : {
    "collapsed" : false,
    "pycharm" : {
     "name" : "#%%\n",
     "is_executing" : false
    }
   }
  },
  {
   "cell_type" : "code",
   "execution_count" : 14,
   "outputs" : [
    {
     "name" : "stdout",
     "text" : [
      "Stored 'data' (str)\n"
     ],
     "output_type" : "stream"
    }
   ],
   "source" : [
    "data = 'string or data-table to pass'\n",
    "%store data\n",
    "del data"
   ],
   "metadata" : {
    "collapsed" : false,
    "pycharm" : {
     "name" : "#%%\n",
     "is_executing" : false
    }
   }
  },
  {
   "cell_type" : "code",
   "execution_count" : 13,
   "outputs" : [
    {
     "name" : "stdout",
     "text" : [
      "Stored 'df' (DataFrame)\n",
      "Stored 'tf' (DataFrame)\n",
      "Stored 'R_pd1' (DataFrame)\n"
     ],
     "output_type" : "stream"
    }
   ],
   "source" : [
    "%store df\n",
    "%store tf\n",
    "%store R_pd1\n"
   ],
   "metadata" : {
    "collapsed" : false,
    "pycharm" : {
     "name" : "#%%\n",
     "is_executing" : false
    }
   }
  },
  {
   "cell_type" : "code",
   "execution_count" : 14,
   "outputs" : [
    {
     "name" : "stdout",
     "text" : [
      "116 Megabytes\n"
     ],
     "output_type" : "stream"
    }
   ],
   "source" : [
    "#Sparse Matrix\n",
    "##Initializing the Data frame\n",
    "dt=np.dtype({'names': ('MovieID','Rating','Date'),'formats': ('int16', 'int8', 'datetime64[D]')})\n",
    "D = np.zeros((2649429,4), dtype=dt)\n",
    "##Data frame size\n",
    "print(\"%d Megabytes\" % ((D.size * D.itemsize)/1000000))"
   ],
   "metadata" : {
    "collapsed" : false,
    "pycharm" : {
     "name" : "#%%\n",
     "is_executing" : false
    }
   }
  },
  {
   "cell_type" : "code",
   "execution_count" : 15,
   "outputs" : [ ],
   "source" : [
    "#The D sparse Matrix\n",
    "D_col = df.itemID.astype(dtype='int16')\n",
    "D_row = df.userID.astype(dtype='int32')\n",
    "D_data = df.rating.astype(dtype='int8')\n",
    "D_sparse= sparse.csr_matrix((D_data, (D_row, D_col)))"
   ],
   "metadata" : {
    "collapsed" : false,
    "pycharm" : {
     "name" : "#%%\n",
     "is_executing" : false
    }
   }
  },
  {
   "cell_type" : "code",
   "execution_count" : 16,
   "outputs" : [ ],
   "source" : [
    "#The T sparse Matrix\n",
    "T_col = tf.itemID.astype(dtype='int16')\n",
    "T_row = tf.userID.astype(dtype='int32')\n",
    "T_data = tf.rating.astype(dtype='int8')\n",
    "T_sparse= sparse.csr_matrix((T_data, (T_row, T_col)))"
   ],
   "metadata" : {
    "collapsed" : false,
    "pycharm" : {
     "name" : "#%%\n",
     "is_executing" : false
    }
   }
  },
  {
   "cell_type" : "code",
   "execution_count" : 39,
   "outputs" : [
    {
     "data" : {
      "text/plain" : "matrix([[0, 0],\n        [0, 0],\n        [0, 0],\n        ...,\n        [0, 0],\n        [0, 0],\n        [0, 4]], dtype=int8)"
     },
     "metadata" : { },
     "output_type" : "execute_result",
     "execution_count" : 39
    }
   ],
   "source" : [ ],
   "metadata" : {
    "collapsed" : false,
    "pycharm" : {
     "name" : "#%%\n",
     "is_executing" : false
    }
   }
  },
  {
   "cell_type" : "code",
   "execution_count" : null,
   "outputs" : [ ],
   "source" : [
    "TestUISparseData.todense()"
   ],
   "metadata" : {
    "collapsed" : false,
    "pycharm" : {
     "name" : "#%%\n"
    }
   }
  },
  {
   "cell_type" : "code",
   "execution_count" : 59,
   "outputs" : [
    {
     "name" : "stdout",
     "text" : [
      "4\n"
     ],
     "output_type" : "stream"
    }
   ],
   "source" : [
    "print(TestUISparseData[2059652,2])"
   ],
   "metadata" : {
    "collapsed" : false,
    "pycharm" : {
     "name" : "#%%\n",
     "is_executing" : false
    }
   }
  }
 ],
 "metadata" : {
  "kernelspec" : {
   "display_name" : "Python 3",
   "language" : "python",
   "name" : "python3"
  },
  "language_info" : {
   "codemirror_mode" : {
    "name" : "ipython",
    "version" : 2
   },
   "file_extension" : ".py",
   "mimetype" : "text/x-python",
   "name" : "python",
   "nbconvert_exporter" : "python",
   "pygments_lexer" : "ipython2",
   "version" : "2.7.6"
  },
  "pycharm" : {
   "stem_cell" : {
    "cell_type" : "raw",
    "source" : [ ],
    "metadata" : {
     "collapsed" : false
    }
   }
  }
 },
 "nbformat" : 4,
 "nbformat_minor" : 0
}