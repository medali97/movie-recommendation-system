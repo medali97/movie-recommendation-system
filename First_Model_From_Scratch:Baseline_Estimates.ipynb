{
 "cells" : [
  {
   "cell_type" : "code",
   "execution_count" : 1,
   "metadata" : {
    "collapsed" : true,
    "pycharm" : {
     "is_executing" : false
    }
   },
   "outputs" : [
    {
     "name" : "stdout",
     "text" : [
      "[15.0, 15.0, 15.0, 15.0]\n"
     ],
     "output_type" : "stream"
    }
   ],
   "source" : [
    "from random import seed\n",
    "from random import randrange\n",
    "\n",
    "# zero rule algorithm for regression\n",
    "def zero_rule_algorithm_regression(train, test):\n",
    "\toutput_values = [row[-1] for row in train]\n",
    "\tprediction = sum(output_values) / float(len(output_values))\n",
    "\tpredicted = [prediction for i in range(len(test))]\n",
    "\treturn predicted\n",
    "\n",
    "seed(1)\n",
    "train = [[10], [15], [12], [15], [18], [20]]\n",
    "test = [[None], [None], [None], [None]]\n",
    "predictions = zero_rule_algorithm_regression(train, test)\n",
    "print(predictions)\n"
   ]
  }
 ],
 "metadata" : {
  "kernelspec" : {
   "display_name" : "Python 3",
   "language" : "python",
   "name" : "python3"
  },
  "language_info" : {
   "codemirror_mode" : {
    "name" : "ipython",
    "version" : 2
   },
   "file_extension" : ".py",
   "mimetype" : "text/x-python",
   "name" : "python",
   "nbconvert_exporter" : "python",
   "pygments_lexer" : "ipython2",
   "version" : "2.7.6"
  },
  "pycharm" : {
   "stem_cell" : {
    "cell_type" : "raw",
    "source" : [ ],
    "metadata" : {
     "collapsed" : false
    }
   }
  }
 },
 "nbformat" : 4,
 "nbformat_minor" : 0
}