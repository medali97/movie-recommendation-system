{
 "cells": [
  {
   "cell_type": "code",
   "execution_count": null,
   "metadata": {
    "collapsed": true
   },
   "outputs": [],
   "source": []
  },
  {
   "cell_type": "code",
   "execution_count": null,
   "outputs": [],
   "source": [
    "from models.baseline_estimator_m import baseline_estimator\n",
    "def correlation_based_implicit_neighbourhood_model(user_id, data, implicit_preference, movie_i_id):\n",
    "    R_u =  data.loc[data['Customer_id'] == user_id]['Movie_id'].values.tolist()\n",
    "    N_u = #(list of all_movies indexes where is 1)\n",
    "    bui = baseline_estimator(user_id, movie_i_id, data)\n",
    "    second_part = 0\n",
    "    for j in R_u:\n",
    "        wij =\n",
    "        buj = baseline_estimator(user_id, j, data)\n",
    "        ruj = data.query('Customer_id=='+str(user_id)+' and Movie_id=='+str(j))['Rating'].values[0]\n",
    "        second_part+=(ruj - buj)*wij\n",
    "    estimated_rating = bui + second_part"
   ],
   "metadata": {
    "collapsed": false,
    "pycharm": {
     "name": "#%%\n"
    }
   }
  }
 ],
 "metadata": {
  "kernelspec": {
   "display_name": "Python 3",
   "language": "python",
   "name": "python3"
  },
  "language_info": {
   "codemirror_mode": {
    "name": "ipython",
    "version": 2
   },
   "file_extension": ".py",
   "mimetype": "text/x-python",
   "name": "python",
   "nbconvert_exporter": "python",
   "pygments_lexer": "ipython2",
   "version": "2.7.6"
  }
 },
 "nbformat": 4,
 "nbformat_minor": 0
}