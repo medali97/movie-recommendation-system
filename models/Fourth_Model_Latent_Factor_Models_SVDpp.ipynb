{
 "cells" : [
  {
   "cell_type" : "code",
   "execution_count" : 6,
   "metadata" : {
    "collapsed" : true,
    "pycharm" : {
     "is_executing" : false
    }
   },
   "outputs" : [
    {
     "name" : "stdout",
     "text" : [
      "import of packages successful\n"
     ],
     "output_type" : "stream"
    }
   ],
   "source" : [
    "from surprise import Dataset, reader, accuracy\n",
    "from surprise.prediction_algorithms.matrix_factorization import SVDpp, SVD\n",
    "from io import StringIO\n",
    "import os\n",
    "import urllib.request\n",
    "from sklearn.metrics import mean_squared_error\n",
    "from datetime import datetime\n",
    "# print message after packages imported successfully\n",
    "\n",
    "print(\"import of packages successful\")\n",
    "##import of packages successful"
   ]
  },
  {
   "cell_type" : "code",
   "execution_count" : 7,
   "outputs" : [ ],
   "source" : [
    "#Sharing Data\n",
    "%store -r trainset\n",
    "%store -r testset\n",
    "trainset = trainset\n",
    "testset= testset"
   ],
   "metadata" : {
    "collapsed" : false,
    "pycharm" : {
     "name" : "#%%\n",
     "is_executing" : false
    }
   }
  },
  {
   "cell_type" : "code",
   "execution_count" : 8,
   "outputs" : [
    {
     "data" : {
      "text/plain" : "<surprise.prediction_algorithms.matrix_factorization.SVD at 0x7fde8e7ced10>"
     },
     "metadata" : { },
     "output_type" : "execute_result",
     "execution_count" : 8
    }
   ],
   "source" : [
    "###\\\\\\-----SVD-----///###\n",
    "algo_svd = SVD()\n",
    "algo_svd.fit(trainset)"
   ],
   "metadata" : {
    "collapsed" : false,
    "pycharm" : {
     "name" : "#%%\n",
     "is_executing" : false
    }
   }
  },
  {
   "cell_type" : "code",
   "execution_count" : 9,
   "outputs" : [
    {
     "name" : "stdout",
     "text" : [
      "user: 2442       item: 1          r_ui = 4.00   est = 3.69   {'was_impossible': False}\n"
     ],
     "output_type" : "stream"
    }
   ],
   "source" : [
    "uid = str(2442)  # raw user id (as in the ratings file). They are **strings**!\n",
    "iid = str(1)  # raw item id (as in the ratings file). They are **strings**!\n",
    "\n",
    "# get a prediction for specific users and items.\n",
    "pred = algo_svd.predict(uid, iid, r_ui=4, verbose=True)\n"
   ],
   "metadata" : {
    "collapsed" : false,
    "pycharm" : {
     "name" : "#%%\n",
     "is_executing" : false
    }
   }
  },
  {
   "cell_type" : "code",
   "execution_count" : 10,
   "outputs" : [
    {
     "name" : "stdout",
     "text" : [
      "user: 30878      item: 1          r_ui = 4.00   est = 3.77   {'was_impossible': False}\n",
      "RMSE: 0.8495\n"
     ],
     "output_type" : "stream"
    },
    {
     "data" : {
      "text/plain" : "0.8495398484168046"
     },
     "metadata" : { },
     "output_type" : "execute_result",
     "execution_count" : 10
    }
   ],
   "source" : [
    "predictions = algo_svd.test(testset)\n",
    "print(predictions[0])\n",
    "# Then compute RMSE\n",
    "accuracy.rmse(predictions, verbose=True)\n",
    "\n",
    "\n"
   ],
   "metadata" : {
    "collapsed" : false,
    "pycharm" : {
     "name" : "#%%\n",
     "is_executing" : false
    }
   }
  },
  {
   "cell_type" : "code",
   "execution_count" : null,
   "outputs" : [ ],
   "source" : [
    "###\\\\\\-----SVD ++-----///###\n",
    "algo_svdpp = SVDpp()\n",
    "algo_svdpp.fit(trainset)"
   ],
   "metadata" : {
    "collapsed" : false,
    "pycharm" : {
     "name" : "#%%\n"
    }
   }
  },
  {
   "cell_type" : "code",
   "execution_count" : 8,
   "outputs" : [
    {
     "name" : "stdout",
     "text" : [
      "user: 2442       item: 1          r_ui = 4.00   est = 3.69   {'was_impossible': False}\n"
     ],
     "output_type" : "stream"
    }
   ],
   "source" : [
    "uid = str(2442)  # raw user id (as in the ratings file). They are **strings**!\n",
    "iid = str(1)  # raw item id (as in the ratings file). They are **strings**!\n",
    "\n",
    "# get a prediction for specific users and items.\n",
    "pred = algo_svdpp.predict(uid, iid, r_ui=4, verbose=True)\n"
   ],
   "metadata" : {
    "collapsed" : false,
    "pycharm" : {
     "name" : "#%%\n",
     "is_executing" : false
    }
   }
  },
  {
   "cell_type" : "code",
   "execution_count" : 12,
   "outputs" : [
    {
     "name" : "stdout",
     "text" : [
      "user: 30878      item: 1          r_ui = 4.00   est = 3.62   {'was_impossible': False}\n",
      "RMSE: 0.9381\n"
     ],
     "output_type" : "stream"
    },
    {
     "data" : {
      "text/plain" : "0.9380517416046922"
     },
     "metadata" : { },
     "output_type" : "execute_result",
     "execution_count" : 12
    }
   ],
   "source" : [
    "predictions = algo_svdpp.test(testset)\n",
    "print(predictions[0])\n",
    "# Then compute RMSE\n",
    "accuracy.rmse(predictions, verbose=True)"
   ],
   "metadata" : {
    "collapsed" : false,
    "pycharm" : {
     "name" : "#%%\n",
     "is_executing" : false
    }
   }
  },
  {
   "cell_type": "code",
   "execution_count": null,
   "outputs": [],
   "source": [],
   "metadata": {
    "collapsed": false,
    "pycharm": {
     "name": "#%%\n"
    }
   }
  }
 ],
 "metadata" : {
  "kernelspec" : {
   "display_name" : "Python 3",
   "language" : "python",
   "name" : "python3"
  },
  "language_info" : {
   "codemirror_mode" : {
    "name" : "ipython",
    "version" : 2
   },
   "file_extension" : ".py",
   "mimetype" : "text/x-python",
   "name" : "python",
   "nbconvert_exporter" : "python",
   "pygments_lexer" : "ipython2",
   "version" : "2.7.6"
  },
  "pycharm" : {
   "stem_cell" : {
    "cell_type" : "raw",
    "source" : [ ],
    "metadata" : {
     "collapsed" : false
    }
   }
  }
 },
 "nbformat" : 4,
 "nbformat_minor" : 0
}