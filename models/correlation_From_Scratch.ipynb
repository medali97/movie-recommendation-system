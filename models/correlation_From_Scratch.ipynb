{
 "cells": [
  {
   "cell_type": "code",
   "execution_count": 1,
   "metadata": {
    "collapsed": true
   },
   "outputs": [],
   "source": [
    "import pandas as pd\n",
    "R_pd = pd.read_csv(\"../R_pd.csv\")\n",
    "T_pd = pd.read_csv(\"../T_pd.csv\")"
   ]
  },
  {
   "cell_type": "code",
   "execution_count": 2,
   "outputs": [],
   "source": [
    "import numpy as np\n",
    "import pandas as pd\n",
    "def similarity(movie_i, movie_j, data):\n",
    "    if(movie_i==movie_j):\n",
    "        print(\"You entered the same movie\")\n",
    "        return 1.\n",
    "    movie_i_group = pd.DataFrame([])\n",
    "    movie_j_group = pd.DataFrame([])\n",
    "    grouped = data.groupby('Movie_id')\n",
    "    movie_i_found = False\n",
    "    movie_j_found = False\n",
    "    #number_common_users = 0\n",
    "    for name, group in grouped:\n",
    "        #print(name)\n",
    "        if (name==movie_i):\n",
    "            movie_i_found = True\n",
    "            movie_i_group=group\n",
    "        elif(name==movie_j):\n",
    "            movie_j_found = True\n",
    "            movie_j_group=group\n",
    "        else:\n",
    "            continue\n",
    "    if(not movie_j_found or not movie_i_found):\n",
    "        print(\"No movie found\")\n",
    "        return 0\n",
    "    try:\n",
    "        common_users = pd.merge(movie_i_group, movie_j_group, on='Customer_id', how='inner')\n",
    "        pearson_cor = np.corrcoef(common_users['Rating_x'].values.tolist(), common_users['Rating_y'].values.tolist())[0, 1]\n",
    "        number_common_users = common_users.shape[0]\n",
    "        similarity_result = number_common_users*pearson_cor/(number_common_users+100)\n",
    "    except:\n",
    "        print(\"There where am error, maybe the two movies don't have common users\")\n",
    "        similarity_result = 0\n",
    "\n",
    "    return similarity_result"
   ],
   "metadata": {
    "collapsed": false,
    "pycharm": {
     "name": "#%%\n"
    }
   }
  },
  {
   "cell_type": "code",
   "execution_count": 3,
   "outputs": [
    {
     "data": {
      "text/plain": "0.06715382980009553"
     },
     "execution_count": 3,
     "metadata": {},
     "output_type": "execute_result"
    }
   ],
   "source": [
    "similarity(10, 1, R_pd)\n",
    "\n",
    "#a = pd.merge(movie1, movie2, on='Customer_id', how='inner')#, lsuffix='_caller')"
   ],
   "metadata": {
    "collapsed": false,
    "pycharm": {
     "name": "#%%\n"
    }
   }
  },
  {
   "cell_type": "code",
   "execution_count": 35,
   "outputs": [],
   "source": [
    "def k_similar_u_movies(user_id, data, movie_i_id, k):\n",
    "    user_movies = data.loc[data['Customer_id'] == user_id]['Movie_id'].values.tolist()\n",
    "    if(len(user_movies)==0):\n",
    "        print(\"This user don't exits in the trainset\")\n",
    "        return np.array([])\n",
    "    if(k>len(user_movies)):\n",
    "        print(\"This user don't have this much rated movies , try to decrease the value of k , currently he has ===>\", len(user_movies))\n",
    "        k = len(user_movies)\n",
    "    u_similar_movies_i = []\n",
    "    for movie_j in user_movies:\n",
    "        u_similar_movies_i+=[[similarity(movie_j, movie_i_id, data),movie_j]]\n",
    "    u_similar_movies_i.sort(reverse=True)\n",
    "    return np.array(u_similar_movies_i[:k])"
   ],
   "metadata": {
    "collapsed": false,
    "pycharm": {
     "name": "#%%\n"
    }
   }
  },
  {
   "cell_type": "code",
   "execution_count": 31,
   "outputs": [
    {
     "data": {
      "text/plain": "0"
     },
     "execution_count": 31,
     "metadata": {},
     "output_type": "execute_result"
    }
   ],
   "source": [
    "len(np.array([]))"
   ],
   "metadata": {
    "collapsed": false,
    "pycharm": {
     "name": "#%%\n"
    }
   }
  },
  {
   "cell_type": "code",
   "execution_count": 19,
   "outputs": [],
   "source": [
    "a = k_similar_u_movies(258010, R_pd, 1, 1)"
   ],
   "metadata": {
    "collapsed": false,
    "pycharm": {
     "name": "#%%\n"
    }
   }
  },
  {
   "cell_type": "code",
   "execution_count": 57,
   "outputs": [
    {
     "data": {
      "text/plain": "1.1"
     },
     "execution_count": 57,
     "metadata": {},
     "output_type": "execute_result"
    }
   ],
   "source": [
    "a = np.array([[0.5, 12], [0.6, 10]])\n",
    "sum(a[:,0].tolist())"
   ],
   "metadata": {
    "collapsed": false,
    "pycharm": {
     "name": "#%%\n"
    }
   }
  },
  {
   "cell_type": "code",
   "execution_count": 27,
   "outputs": [],
   "source": [
    "a = [[0.5, 12], [0.6, 10]]\n",
    "a.sort(reverse=True)"
   ],
   "metadata": {
    "collapsed": false,
    "pycharm": {
     "name": "#%%\n"
    }
   }
  },
  {
   "cell_type": "code",
   "execution_count": 12,
   "outputs": [
    {
     "data": {
      "text/plain": "array([[ 0.6, 10. ],\n       [ 0.5, 12. ]])"
     },
     "execution_count": 12,
     "metadata": {},
     "output_type": "execute_result"
    }
   ],
   "source": [
    "np.array(a)"
   ],
   "metadata": {
    "collapsed": false,
    "pycharm": {
     "name": "#%%\n"
    }
   }
  },
  {
   "cell_type": "code",
   "execution_count": 87,
   "outputs": [],
   "source": [
    "vowels = [1, 5, 3, 1, 10]"
   ],
   "metadata": {
    "collapsed": false,
    "pycharm": {
     "name": "#%%\n"
    }
   }
  },
  {
   "cell_type": "code",
   "execution_count": 69,
   "outputs": [
    {
     "data": {
      "text/plain": "3.2758892113937126"
     },
     "execution_count": 69,
     "metadata": {},
     "output_type": "execute_result"
    }
   ],
   "source": [
    "R_pd[\"Movie_id\"]"
   ],
   "metadata": {
    "collapsed": false,
    "pycharm": {
     "name": "#%%\n"
    }
   }
  },
  {
   "cell_type": "code",
   "execution_count": 19,
   "outputs": [],
   "source": [],
   "metadata": {
    "collapsed": false,
    "pycharm": {
     "name": "#%%\n"
    }
   }
  },
  {
   "cell_type": "code",
   "execution_count": 17,
   "outputs": [
    {
     "data": {
      "text/plain": "1.4531184221940738"
     },
     "execution_count": 17,
     "metadata": {},
     "output_type": "execute_result"
    }
   ],
   "source": [
    "baseline_estimator(30878, 1, R_pd)"
   ],
   "metadata": {
    "collapsed": false,
    "pycharm": {
     "name": "#%%\n"
    }
   }
  },
  {
   "cell_type": "code",
   "execution_count": 25,
   "outputs": [
    {
     "data": {
      "text/plain": "[]"
     },
     "execution_count": 25,
     "metadata": {},
     "output_type": "execute_result"
    }
   ],
   "source": [
    "R_pd.loc[R_pd['Customer_id'] == 1531863]['Movie_id'].values.tolist()\n"
   ],
   "metadata": {
    "collapsed": false,
    "pycharm": {
     "name": "#%%\n"
    }
   }
  },
  {
   "cell_type": "code",
   "execution_count": 33,
   "outputs": [],
   "source": [
    "def correlation_based_neighbourhood_model(user_id, data, movie_i_id, k):\n",
    "    skiu = k_similar_u_movies(user_id, data, movie_i_id, k)\n",
    "    if(len(skiu)==0):\n",
    "        return 0\n",
    "    bui = baseline_estimator(user_id, movie_i_id, data)\n",
    "    second_part = 0\n",
    "    j_movies = skiu[:,1].astype(\"int\").tolist()\n",
    "    j_movies_i_similarity = skiu[:,0].tolist()\n",
    "    for j in j_movies:\n",
    "        sij = similarity(j, movie_i_id, data)\n",
    "        buj = baseline_estimator(user_id, j, data)\n",
    "        ruj = data.query('Customer_id=='+str(user_id)+' and Movie_id=='+str(j))['Rating'].values[0]\n",
    "        second_part+=sij*(ruj - buj)\n",
    "    estimated_rating = bui + second_part/sum(j_movies_i_similarity)\n",
    "    if(estimated_rating<1):\n",
    "        print(\"rating less than 1\")\n",
    "        estimated_rating = 1\n",
    "    elif(estimated_rating>5):\n",
    "        print(\"rating greater than 5\")\n",
    "        estimated_rating = 5\n",
    "    return estimated_rating"
   ],
   "metadata": {
    "collapsed": false,
    "pycharm": {
     "name": "#%%\n"
    }
   }
  },
  {
   "cell_type": "code",
   "execution_count": 43,
   "outputs": [
    {
     "name": "stdout",
     "output_type": "stream",
     "text": [
      "This user don't have this much rated movies , try to decrease the value of k , currently he has ===> 1\n",
      "rating greater than 5\n",
      "rating greater than 5\n"
     ]
    },
    {
     "data": {
      "text/plain": "5.0"
     },
     "execution_count": 43,
     "metadata": {},
     "output_type": "execute_result"
    }
   ],
   "source": [
    "correlation_based_neighbourhood_model(2647871, R_pd, 1, 4)"
   ],
   "metadata": {
    "collapsed": false,
    "pycharm": {
     "name": "#%%\n"
    }
   }
  },
  {
   "cell_type": "code",
   "execution_count": null,
   "outputs": [],
   "source": [
    "R_pd.loc[R_pd['Movie_id'] == 10][\"Rating\"]"
   ],
   "metadata": {
    "collapsed": false,
    "pycharm": {
     "name": "#%%\n"
    }
   }
  },
  {
   "cell_type": "code",
   "execution_count": 89,
   "outputs": [
    {
     "data": {
      "text/plain": "20322    3\nName: Rating, dtype: int64"
     },
     "execution_count": 89,
     "metadata": {},
     "output_type": "execute_result"
    }
   ],
   "source": [
    "var = 10\n",
    "customer = 88188\n",
    "R_pd.query('Customer_id=='+str(customer)+' and Movie_id=='+str(var))['Rating']"
   ],
   "metadata": {
    "collapsed": false,
    "pycharm": {
     "name": "#%%\n"
    }
   }
  },
  {
   "cell_type": "code",
   "execution_count": 90,
   "outputs": [
    {
     "data": {
      "text/plain": "       Customer_id  Rating        Date  Movie_id\n0          1488844       3  2005-09-06         1\n1           822109       5  2005-05-13         1\n2           885013       4  2005-10-19         1\n3           823519       3  2004-05-03         1\n4           893988       3  2005-11-17         1\n...            ...     ...         ...       ...\n20322        88188       3  2005-12-06        10\n20323      1462129       4  2005-03-11        10\n20324      1796454       3  2004-01-29        10\n20325      1213178       3  2005-12-10        10\n20326       515617       4  2003-03-28        10\n\n[20327 rows x 4 columns]",
      "text/html": "<div>\n<style scoped>\n    .dataframe tbody tr th:only-of-type {\n        vertical-align: middle;\n    }\n\n    .dataframe tbody tr th {\n        vertical-align: top;\n    }\n\n    .dataframe thead th {\n        text-align: right;\n    }\n</style>\n<table border=\"1\" class=\"dataframe\">\n  <thead>\n    <tr style=\"text-align: right;\">\n      <th></th>\n      <th>Customer_id</th>\n      <th>Rating</th>\n      <th>Date</th>\n      <th>Movie_id</th>\n    </tr>\n  </thead>\n  <tbody>\n    <tr>\n      <th>0</th>\n      <td>1488844</td>\n      <td>3</td>\n      <td>2005-09-06</td>\n      <td>1</td>\n    </tr>\n    <tr>\n      <th>1</th>\n      <td>822109</td>\n      <td>5</td>\n      <td>2005-05-13</td>\n      <td>1</td>\n    </tr>\n    <tr>\n      <th>2</th>\n      <td>885013</td>\n      <td>4</td>\n      <td>2005-10-19</td>\n      <td>1</td>\n    </tr>\n    <tr>\n      <th>3</th>\n      <td>823519</td>\n      <td>3</td>\n      <td>2004-05-03</td>\n      <td>1</td>\n    </tr>\n    <tr>\n      <th>4</th>\n      <td>893988</td>\n      <td>3</td>\n      <td>2005-11-17</td>\n      <td>1</td>\n    </tr>\n    <tr>\n      <th>...</th>\n      <td>...</td>\n      <td>...</td>\n      <td>...</td>\n      <td>...</td>\n    </tr>\n    <tr>\n      <th>20322</th>\n      <td>88188</td>\n      <td>3</td>\n      <td>2005-12-06</td>\n      <td>10</td>\n    </tr>\n    <tr>\n      <th>20323</th>\n      <td>1462129</td>\n      <td>4</td>\n      <td>2005-03-11</td>\n      <td>10</td>\n    </tr>\n    <tr>\n      <th>20324</th>\n      <td>1796454</td>\n      <td>3</td>\n      <td>2004-01-29</td>\n      <td>10</td>\n    </tr>\n    <tr>\n      <th>20325</th>\n      <td>1213178</td>\n      <td>3</td>\n      <td>2005-12-10</td>\n      <td>10</td>\n    </tr>\n    <tr>\n      <th>20326</th>\n      <td>515617</td>\n      <td>4</td>\n      <td>2003-03-28</td>\n      <td>10</td>\n    </tr>\n  </tbody>\n</table>\n<p>20327 rows × 4 columns</p>\n</div>"
     },
     "execution_count": 90,
     "metadata": {},
     "output_type": "execute_result"
    }
   ],
   "source": [
    "R_pd"
   ],
   "metadata": {
    "collapsed": false,
    "pycharm": {
     "name": "#%%\n"
    }
   }
  },
  {
   "cell_type": "code",
   "execution_count": 14,
   "outputs": [
    {
     "data": {
      "text/plain": "    Customer_id  Rating        Date  Movie_id\n0         30878       4  2005-12-26         1\n1       2647871       4  2005-12-30         1\n2       1283744       3  2004-04-17         1\n3       2488120       5  2005-09-20         1\n4        317050       5  2005-11-15         1\n5       1904905       4  2005-05-13         1\n6       1989766       4  2005-07-08         1\n7         14756       4  2005-12-27         1\n8       1027056       3  2005-12-03         1\n9       1149588       4  2005-12-13         1\n10      1394012       5  2005-12-19         1\n11      1406595       4  2005-08-27         1\n12      2529547       5  2005-11-18         1\n13      1682104       4  2005-08-30         1\n14      2625019       3  2005-09-12         1\n15      2603381       5  2005-11-29         1\n16      1774623       4  2005-11-23         1\n17       470861       5  2004-06-28         1\n18       712610       4  2005-04-27         1\n19      1772839       5  2005-09-19         1\n20      1059319       3  2005-10-10         1\n21      2380848       5  2005-01-11         1\n22       548064       5  2005-12-02         1\n23      1952305       3  2005-07-19        10\n24      1531863       3  2005-12-21        10",
      "text/html": "<div>\n<style scoped>\n    .dataframe tbody tr th:only-of-type {\n        vertical-align: middle;\n    }\n\n    .dataframe tbody tr th {\n        vertical-align: top;\n    }\n\n    .dataframe thead th {\n        text-align: right;\n    }\n</style>\n<table border=\"1\" class=\"dataframe\">\n  <thead>\n    <tr style=\"text-align: right;\">\n      <th></th>\n      <th>Customer_id</th>\n      <th>Rating</th>\n      <th>Date</th>\n      <th>Movie_id</th>\n    </tr>\n  </thead>\n  <tbody>\n    <tr>\n      <th>0</th>\n      <td>30878</td>\n      <td>4</td>\n      <td>2005-12-26</td>\n      <td>1</td>\n    </tr>\n    <tr>\n      <th>1</th>\n      <td>2647871</td>\n      <td>4</td>\n      <td>2005-12-30</td>\n      <td>1</td>\n    </tr>\n    <tr>\n      <th>2</th>\n      <td>1283744</td>\n      <td>3</td>\n      <td>2004-04-17</td>\n      <td>1</td>\n    </tr>\n    <tr>\n      <th>3</th>\n      <td>2488120</td>\n      <td>5</td>\n      <td>2005-09-20</td>\n      <td>1</td>\n    </tr>\n    <tr>\n      <th>4</th>\n      <td>317050</td>\n      <td>5</td>\n      <td>2005-11-15</td>\n      <td>1</td>\n    </tr>\n    <tr>\n      <th>5</th>\n      <td>1904905</td>\n      <td>4</td>\n      <td>2005-05-13</td>\n      <td>1</td>\n    </tr>\n    <tr>\n      <th>6</th>\n      <td>1989766</td>\n      <td>4</td>\n      <td>2005-07-08</td>\n      <td>1</td>\n    </tr>\n    <tr>\n      <th>7</th>\n      <td>14756</td>\n      <td>4</td>\n      <td>2005-12-27</td>\n      <td>1</td>\n    </tr>\n    <tr>\n      <th>8</th>\n      <td>1027056</td>\n      <td>3</td>\n      <td>2005-12-03</td>\n      <td>1</td>\n    </tr>\n    <tr>\n      <th>9</th>\n      <td>1149588</td>\n      <td>4</td>\n      <td>2005-12-13</td>\n      <td>1</td>\n    </tr>\n    <tr>\n      <th>10</th>\n      <td>1394012</td>\n      <td>5</td>\n      <td>2005-12-19</td>\n      <td>1</td>\n    </tr>\n    <tr>\n      <th>11</th>\n      <td>1406595</td>\n      <td>4</td>\n      <td>2005-08-27</td>\n      <td>1</td>\n    </tr>\n    <tr>\n      <th>12</th>\n      <td>2529547</td>\n      <td>5</td>\n      <td>2005-11-18</td>\n      <td>1</td>\n    </tr>\n    <tr>\n      <th>13</th>\n      <td>1682104</td>\n      <td>4</td>\n      <td>2005-08-30</td>\n      <td>1</td>\n    </tr>\n    <tr>\n      <th>14</th>\n      <td>2625019</td>\n      <td>3</td>\n      <td>2005-09-12</td>\n      <td>1</td>\n    </tr>\n    <tr>\n      <th>15</th>\n      <td>2603381</td>\n      <td>5</td>\n      <td>2005-11-29</td>\n      <td>1</td>\n    </tr>\n    <tr>\n      <th>16</th>\n      <td>1774623</td>\n      <td>4</td>\n      <td>2005-11-23</td>\n      <td>1</td>\n    </tr>\n    <tr>\n      <th>17</th>\n      <td>470861</td>\n      <td>5</td>\n      <td>2004-06-28</td>\n      <td>1</td>\n    </tr>\n    <tr>\n      <th>18</th>\n      <td>712610</td>\n      <td>4</td>\n      <td>2005-04-27</td>\n      <td>1</td>\n    </tr>\n    <tr>\n      <th>19</th>\n      <td>1772839</td>\n      <td>5</td>\n      <td>2005-09-19</td>\n      <td>1</td>\n    </tr>\n    <tr>\n      <th>20</th>\n      <td>1059319</td>\n      <td>3</td>\n      <td>2005-10-10</td>\n      <td>1</td>\n    </tr>\n    <tr>\n      <th>21</th>\n      <td>2380848</td>\n      <td>5</td>\n      <td>2005-01-11</td>\n      <td>1</td>\n    </tr>\n    <tr>\n      <th>22</th>\n      <td>548064</td>\n      <td>5</td>\n      <td>2005-12-02</td>\n      <td>1</td>\n    </tr>\n    <tr>\n      <th>23</th>\n      <td>1952305</td>\n      <td>3</td>\n      <td>2005-07-19</td>\n      <td>10</td>\n    </tr>\n    <tr>\n      <th>24</th>\n      <td>1531863</td>\n      <td>3</td>\n      <td>2005-12-21</td>\n      <td>10</td>\n    </tr>\n  </tbody>\n</table>\n</div>"
     },
     "execution_count": 14,
     "metadata": {},
     "output_type": "execute_result"
    }
   ],
   "source": [
    "T_pd"
   ],
   "metadata": {
    "collapsed": false,
    "pycharm": {
     "name": "#%%\n"
    }
   }
  },
  {
   "cell_type": "code",
   "execution_count": 42,
   "outputs": [
    {
     "name": "stdout",
     "output_type": "stream",
     "text": [
      "The user 30878\n",
      "exits\n",
      "The user 2647871\n",
      "exits\n",
      "The user 1283744\n",
      "Do not exist\n",
      "The user 2488120\n",
      "Do not exist\n",
      "The user 317050\n",
      "Do not exist\n",
      "The user 1904905\n",
      "Do not exist\n",
      "The user 1989766\n",
      "Do not exist\n",
      "The user 14756\n",
      "Do not exist\n",
      "The user 1027056\n",
      "Do not exist\n",
      "The user 1149588\n",
      "Do not exist\n",
      "The user 1394012\n",
      "Do not exist\n",
      "The user 1406595\n",
      "Do not exist\n",
      "The user 2529547\n",
      "Do not exist\n",
      "The user 1682104\n",
      "Do not exist\n",
      "The user 2625019\n",
      "Do not exist\n",
      "The user 2603381\n",
      "Do not exist\n",
      "The user 1774623\n",
      "Do not exist\n",
      "The user 470861\n",
      "Do not exist\n",
      "The user 712610\n",
      "Do not exist\n",
      "The user 1772839\n",
      "Do not exist\n",
      "The user 1059319\n",
      "Do not exist\n",
      "The user 2380848\n",
      "Do not exist\n",
      "The user 548064\n",
      "Do not exist\n",
      "The user 1952305\n",
      "Do not exist\n",
      "The user 1531863\n",
      "Do not exist\n"
     ]
    }
   ],
   "source": [
    "exist =[]\n",
    "for index, row in T_pd.iterrows():\n",
    "    print(\"The user\",row['Customer_id'] )\n",
    "    if row['Customer_id'] in R_pd['Customer_id'].values.tolist():\n",
    "        exist.append(row['Customer_id'])\n",
    "        print(\"exist\")\n",
    "    else:\n",
    "        print(\"Do not exist\")\n",
    "\n"
   ],
   "metadata": {
    "collapsed": false,
    "pycharm": {
     "name": "#%%\n"
    }
   }
  }
 ],
 "metadata": {
  "kernelspec": {
   "display_name": "Python 3",
   "language": "python",
   "name": "python3"
  },
  "language_info": {
   "codemirror_mode": {
    "name": "ipython",
    "version": 2
   },
   "file_extension": ".py",
   "mimetype": "text/x-python",
   "name": "python",
   "nbconvert_exporter": "python",
   "pygments_lexer": "ipython2",
   "version": "2.7.6"
  }
 },
 "nbformat": 4,
 "nbformat_minor": 0
}